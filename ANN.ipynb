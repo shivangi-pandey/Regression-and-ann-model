{
  "nbformat": 4,
  "nbformat_minor": 0,
  "metadata": {
    "colab": {
      "name": "ANN.ipynb",
      "provenance": [],
      "collapsed_sections": []
    },
    "kernelspec": {
      "name": "python3",
      "display_name": "Python 3"
    }
  },
  "cells": [
    {
      "cell_type": "code",
      "metadata": {
        "id": "BYpepSVQ9PJf",
        "outputId": "5bad1f52-04df-4e1b-c633-d007c9b31835",
        "colab": {
          "resources": {
            "http://localhost:8080/nbextensions/google.colab/files.js": {
              "data": "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",
              "ok": true,
              "headers": [
                [
                  "content-type",
                  "application/javascript"
                ]
              ],
              "status": 200,
              "status_text": ""
            }
          },
          "base_uri": "https://localhost:8080/",
          "height": 89
        }
      },
      "source": [
        "from google.colab import files\n",
        "uploaded = files.upload()\n",
        "for fn in uploaded.keys():\n",
        "  print('user uploaded file \"{name}\" with length {length} bytes'.format(name=fn,length=len(uploaded[fn])))"
      ],
      "execution_count": 2,
      "outputs": [
        {
          "output_type": "display_data",
          "data": {
            "text/html": [
              "\n",
              "     <input type=\"file\" id=\"files-3ef01146-90fc-4091-b3f5-6da943394839\" name=\"files[]\" multiple disabled\n",
              "        style=\"border:none\" />\n",
              "     <output id=\"result-3ef01146-90fc-4091-b3f5-6da943394839\">\n",
              "      Upload widget is only available when the cell has been executed in the\n",
              "      current browser session. Please rerun this cell to enable.\n",
              "      </output>\n",
              "      <script src=\"/nbextensions/google.colab/files.js\"></script> "
            ],
            "text/plain": [
              "<IPython.core.display.HTML object>"
            ]
          },
          "metadata": {
            "tags": []
          }
        },
        {
          "output_type": "stream",
          "text": [
            "Saving Car_Purchasing_Data.csv to Car_Purchasing_Data (1).csv\n",
            "user uploaded file \"Car_Purchasing_Data.csv\" with length 58330 bytes\n"
          ],
          "name": "stdout"
        }
      ]
    },
    {
      "cell_type": "code",
      "metadata": {
        "id": "atXkJ3WT-e7h",
        "outputId": "d9d507c0-c3ec-4eb0-f590-36dc31063def",
        "colab": {
          "base_uri": "https://localhost:8080/",
          "height": 204
        }
      },
      "source": [
        "import chardet\n",
        "import pandas as pd\n",
        "file = 'Car_Purchasing_Data.csv'\n",
        "with open(file, 'rb') as rawdata:\n",
        "    result = chardet.detect(rawdata.read(100000))\n",
        "result\n",
        "data= pd.read_csv(file,encoding='ISO-8859-1', delimiter=',', quotechar='\"')\n",
        "data.head()"
      ],
      "execution_count": 25,
      "outputs": [
        {
          "output_type": "execute_result",
          "data": {
            "text/html": [
              "<div>\n",
              "<style scoped>\n",
              "    .dataframe tbody tr th:only-of-type {\n",
              "        vertical-align: middle;\n",
              "    }\n",
              "\n",
              "    .dataframe tbody tr th {\n",
              "        vertical-align: top;\n",
              "    }\n",
              "\n",
              "    .dataframe thead th {\n",
              "        text-align: right;\n",
              "    }\n",
              "</style>\n",
              "<table border=\"1\" class=\"dataframe\">\n",
              "  <thead>\n",
              "    <tr style=\"text-align: right;\">\n",
              "      <th></th>\n",
              "      <th>Customer Name</th>\n",
              "      <th>Customer e-mail</th>\n",
              "      <th>Country</th>\n",
              "      <th>Gender</th>\n",
              "      <th>Age</th>\n",
              "      <th>Annual Salary</th>\n",
              "      <th>Credit Card Debt</th>\n",
              "      <th>Net Worth</th>\n",
              "      <th>Car Purchase Amount</th>\n",
              "    </tr>\n",
              "  </thead>\n",
              "  <tbody>\n",
              "    <tr>\n",
              "      <th>0</th>\n",
              "      <td>Martina Avila</td>\n",
              "      <td>cubilia.Curae.Phasellus@quisaccumsanconvallis.edu</td>\n",
              "      <td>Bulgaria</td>\n",
              "      <td>0</td>\n",
              "      <td>41.851720</td>\n",
              "      <td>62812.09301</td>\n",
              "      <td>11609.380910</td>\n",
              "      <td>238961.2505</td>\n",
              "      <td>35321.45877</td>\n",
              "    </tr>\n",
              "    <tr>\n",
              "      <th>1</th>\n",
              "      <td>Harlan Barnes</td>\n",
              "      <td>eu.dolor@diam.co.uk</td>\n",
              "      <td>Belize</td>\n",
              "      <td>0</td>\n",
              "      <td>40.870623</td>\n",
              "      <td>66646.89292</td>\n",
              "      <td>9572.957136</td>\n",
              "      <td>530973.9078</td>\n",
              "      <td>45115.52566</td>\n",
              "    </tr>\n",
              "    <tr>\n",
              "      <th>2</th>\n",
              "      <td>Naomi Rodriquez</td>\n",
              "      <td>vulputate.mauris.sagittis@ametconsectetueradip...</td>\n",
              "      <td>Algeria</td>\n",
              "      <td>1</td>\n",
              "      <td>43.152897</td>\n",
              "      <td>53798.55112</td>\n",
              "      <td>11160.355060</td>\n",
              "      <td>638467.1773</td>\n",
              "      <td>42925.70921</td>\n",
              "    </tr>\n",
              "    <tr>\n",
              "      <th>3</th>\n",
              "      <td>Jade Cunningham</td>\n",
              "      <td>malesuada@dignissim.com</td>\n",
              "      <td>Cook Islands</td>\n",
              "      <td>1</td>\n",
              "      <td>58.271369</td>\n",
              "      <td>79370.03798</td>\n",
              "      <td>14426.164850</td>\n",
              "      <td>548599.0524</td>\n",
              "      <td>67422.36313</td>\n",
              "    </tr>\n",
              "    <tr>\n",
              "      <th>4</th>\n",
              "      <td>Cedric Leach</td>\n",
              "      <td>felis.ullamcorper.viverra@egetmollislectus.net</td>\n",
              "      <td>Brazil</td>\n",
              "      <td>1</td>\n",
              "      <td>57.313749</td>\n",
              "      <td>59729.15130</td>\n",
              "      <td>5358.712177</td>\n",
              "      <td>560304.0671</td>\n",
              "      <td>55915.46248</td>\n",
              "    </tr>\n",
              "  </tbody>\n",
              "</table>\n",
              "</div>"
            ],
            "text/plain": [
              "     Customer Name  ... Car Purchase Amount\n",
              "0    Martina Avila  ...         35321.45877\n",
              "1    Harlan Barnes  ...         45115.52566\n",
              "2  Naomi Rodriquez  ...         42925.70921\n",
              "3  Jade Cunningham  ...         67422.36313\n",
              "4     Cedric Leach  ...         55915.46248\n",
              "\n",
              "[5 rows x 9 columns]"
            ]
          },
          "metadata": {
            "tags": []
          },
          "execution_count": 25
        }
      ]
    },
    {
      "cell_type": "code",
      "metadata": {
        "id": "pmZfTe4kCmmy"
      },
      "source": [
        "import pandas as pd\n",
        "import numpy as np\n",
        "import matplotlib.pyplot as plt\n"
      ],
      "execution_count": 27,
      "outputs": []
    },
    {
      "cell_type": "code",
      "metadata": {
        "id": "cyoSHncwCvww"
      },
      "source": [
        "x=data[[ \"Gender\", \"Age\",\"Annual Salary\",\"Credit Card Debt\", \"Net Worth\"]]\n",
        "y=data[\"Car Purchase Amount\"]\n",
        "\n",
        "\n",
        "from sklearn.preprocessing import LabelEncoder\n",
        "labelencoder_x_1=LabelEncoder()\n",
        "y=labelencoder_x_1.fit_transform(y)\n",
        "\n",
        "\n",
        "from sklearn.model_selection import train_test_split\n",
        "x_train,x_test,y_train,y_test=train_test_split(x,y,test_size =0.1,random_state=0)\n",
        "\n",
        "from sklearn.preprocessing import StandardScaler\n",
        "sc= StandardScaler()\n",
        "x_train=sc.fit_transform(x_train)\n",
        "x_test = sc.transform(x_test)"
      ],
      "execution_count": 33,
      "outputs": []
    },
    {
      "cell_type": "code",
      "metadata": {
        "id": "G4ZWv015Kfcq",
        "outputId": "682065f3-073e-4baf-9118-8d3c1245beba",
        "colab": {
          "base_uri": "https://localhost:8080/"
        }
      },
      "source": [
        "x_train"
      ],
      "execution_count": 34,
      "outputs": [
        {
          "output_type": "execute_result",
          "data": {
            "text/plain": [
              "array([[ 0.99115027, -1.80677317, -0.14294873,  0.56838919,  0.93878304],\n",
              "       [ 0.99115027, -0.47529897,  0.30733211,  0.86519252, -0.38154159],\n",
              "       [-1.00892875, -0.31437334,  0.68092708, -0.50372393,  0.7453031 ],\n",
              "       ...,\n",
              "       [-1.00892875, -1.4547218 ,  1.8665279 ,  0.91164002, -1.07178486],\n",
              "       [-1.00892875,  0.62874051, -0.38844059, -2.08543727, -1.56925798],\n",
              "       [-1.00892875, -0.76465829,  0.7663665 , -0.46038716, -0.06608141]])"
            ]
          },
          "metadata": {
            "tags": []
          },
          "execution_count": 34
        }
      ]
    },
    {
      "cell_type": "code",
      "metadata": {
        "id": "OFuWWg8dKfVS",
        "outputId": "ab48ff25-d340-4c28-9d28-5ab84ae88085",
        "colab": {
          "base_uri": "https://localhost:8080/"
        }
      },
      "source": [
        "!pip install keras"
      ],
      "execution_count": 35,
      "outputs": [
        {
          "output_type": "stream",
          "text": [
            "Requirement already satisfied: keras in /usr/local/lib/python3.6/dist-packages (2.4.3)\n",
            "Requirement already satisfied: pyyaml in /usr/local/lib/python3.6/dist-packages (from keras) (3.13)\n",
            "Requirement already satisfied: numpy>=1.9.1 in /usr/local/lib/python3.6/dist-packages (from keras) (1.18.5)\n",
            "Requirement already satisfied: h5py in /usr/local/lib/python3.6/dist-packages (from keras) (2.10.0)\n",
            "Requirement already satisfied: scipy>=0.14 in /usr/local/lib/python3.6/dist-packages (from keras) (1.4.1)\n",
            "Requirement already satisfied: six in /usr/local/lib/python3.6/dist-packages (from h5py->keras) (1.15.0)\n"
          ],
          "name": "stdout"
        }
      ]
    },
    {
      "cell_type": "code",
      "metadata": {
        "id": "NDQF4bxgK1O1"
      },
      "source": [
        "import keras\n",
        "from keras.models import Sequential\n",
        "from keras.layers import Dense"
      ],
      "execution_count": 40,
      "outputs": []
    },
    {
      "cell_type": "code",
      "metadata": {
        "id": "jggnJu59LWxD"
      },
      "source": [
        "classifier = Sequential()\n",
        "classifier.add(Dense(3,kernel_initializer='glorot_uniform',activation='relu',input_dim=5))\n",
        "\n",
        "classifier.add(Dense(3,kernel_initializer='glorot_uniform',activation='relu'))\n",
        "\n",
        "classifier.add(Dense(1,kernel_initializer='glorot_uniform',activation='sigmoid'))"
      ],
      "execution_count": 48,
      "outputs": []
    },
    {
      "cell_type": "code",
      "metadata": {
        "id": "z4EBP7xXN2jo"
      },
      "source": [
        "classifier.compile(optimizer=\"Adam\",loss='binary_crossentropy',metrics=['accuracy'])"
      ],
      "execution_count": 50,
      "outputs": []
    },
    {
      "cell_type": "code",
      "metadata": {
        "id": "E2LMy3QhOfP0",
        "outputId": "85a59291-976b-476b-a0e3-c91774077cd2",
        "colab": {
          "base_uri": "https://localhost:8080/"
        }
      },
      "source": [
        "classifier.fit(x_train,y_train,batch_size=50,epochs=100)"
      ],
      "execution_count": 57,
      "outputs": [
        {
          "output_type": "stream",
          "text": [
            "Epoch 1/100\n",
            "9/9 [==============================] - 0s 2ms/step - loss: -120.7791 - accuracy: 0.0000e+00\n",
            "Epoch 2/100\n",
            "9/9 [==============================] - 0s 1ms/step - loss: -133.5659 - accuracy: 0.0000e+00\n",
            "Epoch 3/100\n",
            "9/9 [==============================] - 0s 2ms/step - loss: -147.0058 - accuracy: 0.0000e+00\n",
            "Epoch 4/100\n",
            "9/9 [==============================] - 0s 2ms/step - loss: -161.3170 - accuracy: 0.0000e+00\n",
            "Epoch 5/100\n",
            "9/9 [==============================] - 0s 2ms/step - loss: -176.1528 - accuracy: 0.0000e+00\n",
            "Epoch 6/100\n",
            "9/9 [==============================] - 0s 2ms/step - loss: -191.0748 - accuracy: 0.0000e+00\n",
            "Epoch 7/100\n",
            "9/9 [==============================] - 0s 1ms/step - loss: -207.2259 - accuracy: 0.0000e+00\n",
            "Epoch 8/100\n",
            "9/9 [==============================] - 0s 1ms/step - loss: -223.6502 - accuracy: 0.0000e+00\n",
            "Epoch 9/100\n",
            "9/9 [==============================] - 0s 1ms/step - loss: -241.2234 - accuracy: 0.0000e+00\n",
            "Epoch 10/100\n",
            "9/9 [==============================] - 0s 2ms/step - loss: -259.7274 - accuracy: 0.0000e+00\n",
            "Epoch 11/100\n",
            "9/9 [==============================] - 0s 1ms/step - loss: -278.8195 - accuracy: 0.0000e+00\n",
            "Epoch 12/100\n",
            "9/9 [==============================] - 0s 1ms/step - loss: -299.1560 - accuracy: 0.0000e+00\n",
            "Epoch 13/100\n",
            "9/9 [==============================] - 0s 1ms/step - loss: -319.7500 - accuracy: 0.0000e+00\n",
            "Epoch 14/100\n",
            "9/9 [==============================] - 0s 1ms/step - loss: -341.7893 - accuracy: 0.0000e+00\n",
            "Epoch 15/100\n",
            "9/9 [==============================] - 0s 1ms/step - loss: -365.6443 - accuracy: 0.0000e+00\n",
            "Epoch 16/100\n",
            "9/9 [==============================] - 0s 1ms/step - loss: -389.5746 - accuracy: 0.0000e+00\n",
            "Epoch 17/100\n",
            "9/9 [==============================] - 0s 1ms/step - loss: -414.7976 - accuracy: 0.0000e+00\n",
            "Epoch 18/100\n",
            "9/9 [==============================] - 0s 1ms/step - loss: -440.8883 - accuracy: 0.0000e+00\n",
            "Epoch 19/100\n",
            "9/9 [==============================] - 0s 1ms/step - loss: -469.9545 - accuracy: 0.0000e+00\n",
            "Epoch 20/100\n",
            "9/9 [==============================] - 0s 1ms/step - loss: -499.5865 - accuracy: 0.0000e+00\n",
            "Epoch 21/100\n",
            "9/9 [==============================] - 0s 1ms/step - loss: -532.0705 - accuracy: 0.0000e+00\n",
            "Epoch 22/100\n",
            "9/9 [==============================] - 0s 1ms/step - loss: -566.3998 - accuracy: 0.0000e+00\n",
            "Epoch 23/100\n",
            "9/9 [==============================] - 0s 1ms/step - loss: -602.1296 - accuracy: 0.0000e+00\n",
            "Epoch 24/100\n",
            "9/9 [==============================] - 0s 1ms/step - loss: -640.7547 - accuracy: 0.0000e+00\n",
            "Epoch 25/100\n",
            "9/9 [==============================] - 0s 1ms/step - loss: -679.2576 - accuracy: 0.0000e+00\n",
            "Epoch 26/100\n",
            "9/9 [==============================] - 0s 1ms/step - loss: -720.5847 - accuracy: 0.0000e+00\n",
            "Epoch 27/100\n",
            "9/9 [==============================] - 0s 2ms/step - loss: -762.8737 - accuracy: 0.0000e+00\n",
            "Epoch 28/100\n",
            "9/9 [==============================] - 0s 2ms/step - loss: -807.5414 - accuracy: 0.0000e+00\n",
            "Epoch 29/100\n",
            "9/9 [==============================] - 0s 2ms/step - loss: -853.9991 - accuracy: 0.0000e+00\n",
            "Epoch 30/100\n",
            "9/9 [==============================] - 0s 2ms/step - loss: -902.7088 - accuracy: 0.0000e+00\n",
            "Epoch 31/100\n",
            "9/9 [==============================] - 0s 2ms/step - loss: -951.3619 - accuracy: 0.0000e+00\n",
            "Epoch 32/100\n",
            "9/9 [==============================] - 0s 2ms/step - loss: -1005.2921 - accuracy: 0.0000e+00\n",
            "Epoch 33/100\n",
            "9/9 [==============================] - 0s 2ms/step - loss: -1059.6226 - accuracy: 0.0000e+00\n",
            "Epoch 34/100\n",
            "9/9 [==============================] - 0s 1ms/step - loss: -1117.3969 - accuracy: 0.0000e+00\n",
            "Epoch 35/100\n",
            "9/9 [==============================] - 0s 2ms/step - loss: -1177.2816 - accuracy: 0.0000e+00\n",
            "Epoch 36/100\n",
            "9/9 [==============================] - 0s 2ms/step - loss: -1239.6132 - accuracy: 0.0000e+00\n",
            "Epoch 37/100\n",
            "9/9 [==============================] - 0s 2ms/step - loss: -1305.6521 - accuracy: 0.0000e+00\n",
            "Epoch 38/100\n",
            "9/9 [==============================] - 0s 2ms/step - loss: -1372.3173 - accuracy: 0.0000e+00\n",
            "Epoch 39/100\n",
            "9/9 [==============================] - 0s 2ms/step - loss: -1444.3610 - accuracy: 0.0000e+00\n",
            "Epoch 40/100\n",
            "9/9 [==============================] - 0s 2ms/step - loss: -1518.0707 - accuracy: 0.0000e+00\n",
            "Epoch 41/100\n",
            "9/9 [==============================] - 0s 1ms/step - loss: -1596.1267 - accuracy: 0.0000e+00\n",
            "Epoch 42/100\n",
            "9/9 [==============================] - 0s 1ms/step - loss: -1677.1946 - accuracy: 0.0000e+00\n",
            "Epoch 43/100\n",
            "9/9 [==============================] - 0s 1ms/step - loss: -1762.4731 - accuracy: 0.0000e+00\n",
            "Epoch 44/100\n",
            "9/9 [==============================] - 0s 1ms/step - loss: -1851.0184 - accuracy: 0.0000e+00\n",
            "Epoch 45/100\n",
            "9/9 [==============================] - 0s 1ms/step - loss: -1943.8069 - accuracy: 0.0000e+00\n",
            "Epoch 46/100\n",
            "9/9 [==============================] - 0s 2ms/step - loss: -2041.7417 - accuracy: 0.0000e+00\n",
            "Epoch 47/100\n",
            "9/9 [==============================] - 0s 2ms/step - loss: -2138.0146 - accuracy: 0.0000e+00\n",
            "Epoch 48/100\n",
            "9/9 [==============================] - 0s 2ms/step - loss: -2242.6746 - accuracy: 0.0000e+00\n",
            "Epoch 49/100\n",
            "9/9 [==============================] - 0s 2ms/step - loss: -2347.9109 - accuracy: 0.0000e+00\n",
            "Epoch 50/100\n",
            "9/9 [==============================] - 0s 2ms/step - loss: -2456.7515 - accuracy: 0.0000e+00\n",
            "Epoch 51/100\n",
            "9/9 [==============================] - 0s 2ms/step - loss: -2569.7439 - accuracy: 0.0000e+00\n",
            "Epoch 52/100\n",
            "9/9 [==============================] - 0s 1ms/step - loss: -2685.8279 - accuracy: 0.0000e+00\n",
            "Epoch 53/100\n",
            "9/9 [==============================] - 0s 2ms/step - loss: -2808.0898 - accuracy: 0.0000e+00\n",
            "Epoch 54/100\n",
            "9/9 [==============================] - 0s 2ms/step - loss: -2930.3828 - accuracy: 0.0000e+00\n",
            "Epoch 55/100\n",
            "9/9 [==============================] - 0s 1ms/step - loss: -3059.2495 - accuracy: 0.0000e+00\n",
            "Epoch 56/100\n",
            "9/9 [==============================] - 0s 2ms/step - loss: -3191.8662 - accuracy: 0.0000e+00\n",
            "Epoch 57/100\n",
            "9/9 [==============================] - 0s 1ms/step - loss: -3324.0498 - accuracy: 0.0000e+00\n",
            "Epoch 58/100\n",
            "9/9 [==============================] - 0s 2ms/step - loss: -3467.6707 - accuracy: 0.0000e+00\n",
            "Epoch 59/100\n",
            "9/9 [==============================] - 0s 2ms/step - loss: -3609.3816 - accuracy: 0.0000e+00\n",
            "Epoch 60/100\n",
            "9/9 [==============================] - 0s 2ms/step - loss: -3758.3271 - accuracy: 0.0000e+00\n",
            "Epoch 61/100\n",
            "9/9 [==============================] - 0s 1ms/step - loss: -3908.9402 - accuracy: 0.0000e+00\n",
            "Epoch 62/100\n",
            "9/9 [==============================] - 0s 1ms/step - loss: -4063.5518 - accuracy: 0.0000e+00\n",
            "Epoch 63/100\n",
            "9/9 [==============================] - 0s 1ms/step - loss: -4225.4795 - accuracy: 0.0000e+00\n",
            "Epoch 64/100\n",
            "9/9 [==============================] - 0s 2ms/step - loss: -4386.3765 - accuracy: 0.0000e+00\n",
            "Epoch 65/100\n",
            "9/9 [==============================] - 0s 1ms/step - loss: -4556.8311 - accuracy: 0.0000e+00\n",
            "Epoch 66/100\n",
            "9/9 [==============================] - 0s 2ms/step - loss: -4726.5430 - accuracy: 0.0000e+00\n",
            "Epoch 67/100\n",
            "9/9 [==============================] - 0s 1ms/step - loss: -4899.3857 - accuracy: 0.0000e+00\n",
            "Epoch 68/100\n",
            "9/9 [==============================] - 0s 2ms/step - loss: -5079.8252 - accuracy: 0.0000e+00\n",
            "Epoch 69/100\n",
            "9/9 [==============================] - 0s 2ms/step - loss: -5267.5796 - accuracy: 0.0000e+00\n",
            "Epoch 70/100\n",
            "9/9 [==============================] - 0s 2ms/step - loss: -5457.2324 - accuracy: 0.0000e+00\n",
            "Epoch 71/100\n",
            "9/9 [==============================] - 0s 2ms/step - loss: -5652.2798 - accuracy: 0.0000e+00\n",
            "Epoch 72/100\n",
            "9/9 [==============================] - 0s 2ms/step - loss: -5851.1968 - accuracy: 0.0000e+00\n",
            "Epoch 73/100\n",
            "9/9 [==============================] - 0s 2ms/step - loss: -6048.5527 - accuracy: 0.0000e+00\n",
            "Epoch 74/100\n",
            "9/9 [==============================] - 0s 1ms/step - loss: -6259.0854 - accuracy: 0.0000e+00\n",
            "Epoch 75/100\n",
            "9/9 [==============================] - 0s 2ms/step - loss: -6467.1226 - accuracy: 0.0000e+00\n",
            "Epoch 76/100\n",
            "9/9 [==============================] - 0s 2ms/step - loss: -6693.5767 - accuracy: 0.0000e+00\n",
            "Epoch 77/100\n",
            "9/9 [==============================] - 0s 1ms/step - loss: -6901.9067 - accuracy: 0.0000e+00\n",
            "Epoch 78/100\n",
            "9/9 [==============================] - 0s 2ms/step - loss: -7135.5854 - accuracy: 0.0000e+00\n",
            "Epoch 79/100\n",
            "9/9 [==============================] - 0s 2ms/step - loss: -7364.9688 - accuracy: 0.0000e+00\n",
            "Epoch 80/100\n",
            "9/9 [==============================] - 0s 2ms/step - loss: -7600.3701 - accuracy: 0.0000e+00\n",
            "Epoch 81/100\n",
            "9/9 [==============================] - 0s 2ms/step - loss: -7835.2231 - accuracy: 0.0000e+00\n",
            "Epoch 82/100\n",
            "9/9 [==============================] - 0s 2ms/step - loss: -8081.2183 - accuracy: 0.0000e+00\n",
            "Epoch 83/100\n",
            "9/9 [==============================] - 0s 2ms/step - loss: -8335.7598 - accuracy: 0.0000e+00\n",
            "Epoch 84/100\n",
            "9/9 [==============================] - 0s 2ms/step - loss: -8591.2402 - accuracy: 0.0000e+00\n",
            "Epoch 85/100\n",
            "9/9 [==============================] - 0s 2ms/step - loss: -8845.4629 - accuracy: 0.0000e+00\n",
            "Epoch 86/100\n",
            "9/9 [==============================] - 0s 1ms/step - loss: -9120.0010 - accuracy: 0.0000e+00\n",
            "Epoch 87/100\n",
            "9/9 [==============================] - 0s 2ms/step - loss: -9374.4619 - accuracy: 0.0000e+00\n",
            "Epoch 88/100\n",
            "9/9 [==============================] - 0s 2ms/step - loss: -9652.9678 - accuracy: 0.0000e+00\n",
            "Epoch 89/100\n",
            "9/9 [==============================] - 0s 2ms/step - loss: -9934.5449 - accuracy: 0.0000e+00\n",
            "Epoch 90/100\n",
            "9/9 [==============================] - 0s 2ms/step - loss: -10225.3418 - accuracy: 0.0000e+00\n",
            "Epoch 91/100\n",
            "9/9 [==============================] - 0s 2ms/step - loss: -10512.6748 - accuracy: 0.0000e+00\n",
            "Epoch 92/100\n",
            "9/9 [==============================] - 0s 2ms/step - loss: -10805.6523 - accuracy: 0.0000e+00\n",
            "Epoch 93/100\n",
            "9/9 [==============================] - 0s 2ms/step - loss: -11110.5488 - accuracy: 0.0000e+00\n",
            "Epoch 94/100\n",
            "9/9 [==============================] - 0s 2ms/step - loss: -11411.1045 - accuracy: 0.0000e+00\n",
            "Epoch 95/100\n",
            "9/9 [==============================] - 0s 2ms/step - loss: -11726.0215 - accuracy: 0.0000e+00\n",
            "Epoch 96/100\n",
            "9/9 [==============================] - 0s 2ms/step - loss: -12041.7451 - accuracy: 0.0000e+00\n",
            "Epoch 97/100\n",
            "9/9 [==============================] - 0s 2ms/step - loss: -12367.2588 - accuracy: 0.0000e+00\n",
            "Epoch 98/100\n",
            "9/9 [==============================] - 0s 2ms/step - loss: -12688.3965 - accuracy: 0.0000e+00\n",
            "Epoch 99/100\n",
            "9/9 [==============================] - 0s 1ms/step - loss: -13023.6670 - accuracy: 0.0000e+00\n",
            "Epoch 100/100\n",
            "9/9 [==============================] - 0s 2ms/step - loss: -13362.3311 - accuracy: 0.0000e+00\n"
          ],
          "name": "stdout"
        },
        {
          "output_type": "execute_result",
          "data": {
            "text/plain": [
              "<tensorflow.python.keras.callbacks.History at 0x7fafd5dc3ef0>"
            ]
          },
          "metadata": {
            "tags": []
          },
          "execution_count": 57
        }
      ]
    },
    {
      "cell_type": "code",
      "metadata": {
        "id": "-5710PaVPXlU",
        "outputId": "9cefe34d-19fe-4da0-8c9e-7a46f33f580b",
        "colab": {
          "base_uri": "https://localhost:8080/"
        }
      },
      "source": [
        "x_test"
      ],
      "execution_count": 60,
      "outputs": [
        {
          "output_type": "execute_result",
          "data": {
            "text/plain": [
              "array([[ 9.91150268e-01,  4.75556671e-01, -1.30119928e-01,\n",
              "        -3.67008246e-01, -1.48705903e+00],\n",
              "       [-1.00892875e+00, -1.17862287e-01,  5.42624335e-01,\n",
              "         1.68798665e+00, -6.97880506e-01],\n",
              "       [ 9.91150268e-01, -6.72021036e-01, -2.54820214e-01,\n",
              "        -1.05355373e+00, -1.70120918e+00],\n",
              "       [-1.00892875e+00,  8.10963314e-01,  1.20317783e+00,\n",
              "        -8.96236286e-01, -1.06650530e+00],\n",
              "       [ 9.91150268e-01, -9.66419852e-01, -2.90934623e-01,\n",
              "         7.16129197e-01,  5.16910907e-01],\n",
              "       [ 9.91150268e-01,  8.96864139e-01,  2.18446798e-01,\n",
              "         5.13457337e-01,  3.10625266e-01],\n",
              "       [-1.00892875e+00,  4.14069695e-02,  9.65222465e-01,\n",
              "         4.58130062e-01,  1.96794765e+00],\n",
              "       [-1.00892875e+00,  1.09777426e+00,  1.98828625e-01,\n",
              "        -7.44262938e-01,  1.38000139e+00],\n",
              "       [-1.00892875e+00,  1.23806092e+00, -1.90820355e+00,\n",
              "         4.18112310e-01, -3.76561841e-01],\n",
              "       [-1.00892875e+00, -1.56930618e+00, -5.49079843e-01,\n",
              "        -3.79903619e-02,  2.73854095e-01],\n",
              "       [ 9.91150268e-01,  2.34061729e-01, -5.03330024e-01,\n",
              "        -8.17719702e-02,  9.24424047e-01],\n",
              "       [-1.00892875e+00,  1.33705553e+00, -2.45703213e-01,\n",
              "         2.70140037e-01,  1.13879137e+00],\n",
              "       [ 9.91150268e-01, -7.32439034e-01,  7.70212431e-01,\n",
              "        -1.62124546e+00,  1.95116128e+00],\n",
              "       [-1.00892875e+00,  2.60785443e-01,  2.06876868e+00,\n",
              "         1.19226190e+00,  2.27862805e+00],\n",
              "       [ 9.91150268e-01,  1.58486057e-01, -1.83575396e+00,\n",
              "         5.64848348e-01, -1.00408828e+00],\n",
              "       [ 9.91150268e-01, -2.47752905e-01, -1.39995575e+00,\n",
              "        -8.10031565e-02, -3.11170434e-01],\n",
              "       [-1.00892875e+00, -3.65013788e-01,  5.78249594e-01,\n",
              "        -4.02513505e-01,  5.06387664e-01],\n",
              "       [ 9.91150268e-01,  2.07671163e+00,  2.04262402e-01,\n",
              "        -2.18103975e-01, -1.13523110e-01],\n",
              "       [ 9.91150268e-01, -1.44189978e-01, -2.01621716e-01,\n",
              "         1.52399472e+00,  1.26760128e-01],\n",
              "       [ 9.91150268e-01, -3.05737239e+00, -1.60042040e+00,\n",
              "         3.96628171e-01, -5.91210968e-01],\n",
              "       [ 9.91150268e-01,  5.43590327e-01, -1.43131757e-01,\n",
              "         5.06842462e-01,  3.63158659e-01],\n",
              "       [ 9.91150268e-01, -3.87146890e-01, -6.62299689e-01,\n",
              "        -6.43915695e-01,  2.50408041e-02],\n",
              "       [-1.00892875e+00,  1.88033659e-01, -1.24020654e-01,\n",
              "        -3.70205315e-01,  3.72886458e-01],\n",
              "       [ 9.91150268e-01, -2.00224748e+00, -1.29740865e-02,\n",
              "         2.39299779e-01, -6.10388721e-01],\n",
              "       [-1.00892875e+00,  1.14776847e+00,  7.35876084e-01,\n",
              "         1.78966410e-01,  2.48216076e+00],\n",
              "       [-1.00892875e+00, -2.42083243e-01,  6.88811160e-01,\n",
              "        -2.81992468e-01, -6.27455695e-01],\n",
              "       [-1.00892875e+00,  2.38614387e-01,  1.91839826e-01,\n",
              "         3.93263911e-01, -7.04991636e-01],\n",
              "       [ 9.91150268e-01,  1.46709455e+00,  1.98534821e-01,\n",
              "        -4.09345451e-03, -1.69388949e+00],\n",
              "       [-1.00892875e+00,  6.66528651e-03,  2.40596239e+00,\n",
              "         1.24105346e+00,  2.99860334e-01],\n",
              "       [ 9.91150268e-01,  8.78087676e-01,  7.40569506e-01,\n",
              "         2.26515505e-03,  6.86734971e-01],\n",
              "       [-1.00892875e+00, -4.48930110e-01, -4.55215807e-01,\n",
              "         3.70919185e-01,  2.11022610e+00],\n",
              "       [-1.00892875e+00, -4.14160265e-01, -1.38163068e+00,\n",
              "         1.34904354e+00,  2.11261710e+00],\n",
              "       [-1.00892875e+00,  1.01182710e+00, -9.16297720e-02,\n",
              "        -6.28511430e-01,  9.22392070e-01],\n",
              "       [ 9.91150268e-01, -6.34324396e-01,  2.93810229e-01,\n",
              "         7.13617417e-01,  2.00908433e-01],\n",
              "       [ 9.91150268e-01,  1.38275679e+00,  4.79492557e-01,\n",
              "         1.23515462e+00,  1.33520654e+00],\n",
              "       [-1.00892875e+00,  1.12408273e+00,  8.74211722e-01,\n",
              "         8.63483982e-02,  5.56924368e-01],\n",
              "       [-1.00892875e+00,  1.63725581e-01, -1.13918535e+00,\n",
              "         1.36581166e+00, -3.68997401e-01],\n",
              "       [ 9.91150268e-01,  1.17895594e+00,  3.74147610e-01,\n",
              "        -1.59609223e+00,  1.12609372e+00],\n",
              "       [-1.00892875e+00,  6.78331253e-01, -1.07144232e+00,\n",
              "         5.69339826e-01,  2.74653674e-01],\n",
              "       [-1.00892875e+00,  7.05131639e-01,  2.67171001e-01,\n",
              "        -5.97658627e-01, -1.51256989e+00],\n",
              "       [-1.00892875e+00,  1.76764128e+00, -2.73584235e-01,\n",
              "         9.31403750e-01,  1.13201206e+00],\n",
              "       [ 9.91150268e-01, -5.01347882e-01, -5.05010158e-01,\n",
              "         6.13245347e-01, -6.29187669e-01],\n",
              "       [ 9.91150268e-01, -1.25715831e+00,  4.58857791e-01,\n",
              "         1.88494012e-01, -1.67065251e+00],\n",
              "       [ 9.91150268e-01, -1.23658724e+00,  6.26680793e-01,\n",
              "         2.99178585e+00, -5.38351663e-01],\n",
              "       [ 9.91150268e-01,  9.05005291e-01, -9.46881021e-01,\n",
              "         2.05813928e+00, -4.85261040e-01],\n",
              "       [-1.00892875e+00, -6.72621520e-01,  3.86102314e-01,\n",
              "         1.25675015e-02,  5.99442865e-01],\n",
              "       [ 9.91150268e-01,  1.58085396e-01,  9.30956665e-01,\n",
              "         3.47099136e-01, -1.35097350e+00],\n",
              "       [-1.00892875e+00,  6.53161683e-01,  2.67720881e-01,\n",
              "         5.78669567e-01,  6.68256941e-01],\n",
              "       [ 9.91150268e-01, -2.09707763e+00,  6.75807599e-01,\n",
              "        -2.22923645e+00,  7.23583852e-01],\n",
              "       [ 9.91150268e-01, -1.98418898e+00,  5.24840567e-01,\n",
              "        -6.20351686e-01, -1.38140288e-01]])"
            ]
          },
          "metadata": {
            "tags": []
          },
          "execution_count": 60
        }
      ]
    },
    {
      "cell_type": "code",
      "metadata": {
        "id": "2Zb7p-wWPptE"
      },
      "source": [
        ""
      ],
      "execution_count": 67,
      "outputs": []
    },
    {
      "cell_type": "code",
      "metadata": {
        "id": "eMnRX6S1PulT"
      },
      "source": [
        ""
      ],
      "execution_count": 68,
      "outputs": []
    },
    {
      "cell_type": "code",
      "metadata": {
        "id": "JOBrYSgUP8gZ"
      },
      "source": [
        ""
      ],
      "execution_count": 69,
      "outputs": []
    }
  ]
}